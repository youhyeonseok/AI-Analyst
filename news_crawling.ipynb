{
 "cells": [
  {
   "cell_type": "code",
   "execution_count": 1,
   "metadata": {},
   "outputs": [
    {
     "name": "stderr",
     "output_type": "stream",
     "text": [
      "/Library/Frameworks/Python.framework/Versions/3.10/lib/python3.10/site-packages/requests/__init__.py:102: RequestsDependencyWarning: urllib3 (1.26.7) or chardet (5.1.0)/charset_normalizer (2.0.7) doesn't match a supported version!\n",
      "  warnings.warn(\"urllib3 ({}) or chardet ({})/charset_normalizer ({}) doesn't match a supported \"\n"
     ]
    }
   ],
   "source": [
    "import time\n",
    "from webdriver_manager.chrome import ChromeDriverManager\n",
    "from selenium import webdriver\n",
    "from selenium.webdriver.common.by import By\n",
    "from selenium.webdriver.common.keys import Keys\n",
    "import re\n",
    "import pandas as pd\n",
    "url = \"https://search.seoul.co.kr/issueRanking.php\""
   ]
  },
  {
   "cell_type": "code",
   "execution_count": 2,
   "metadata": {},
   "outputs": [],
   "source": [
    "class news_data_bot:\n",
    "    default_url = \"https://search.seoul.co.kr/issueRanking.php\"\n",
    "    def __init__(self, search_word):\n",
    "        self.search_word = search_word\n",
    "        \n",
    "    def run(self):\n",
    "        driver = webdriver.Chrome(ChromeDriverManager().install())\n",
    "        driver.get(self.default_url)\n",
    "        element = driver.find_element(By.CSS_SELECTOR, \"#keyword\")\n",
    "        element.send_keys(self.search_word + Keys.ENTER)\n",
    "        driver.find_element(By.CSS_SELECTOR, \"#scopeBtn_title\").click()\n",
    "        driver.find_element(By.CSS_SELECTOR, \"#sub_option > a\").click()\n",
    "\n",
    "        curr_url = driver.current_url\n",
    "        curr_url = curr_url + \"&pageNum=\"\n",
    "\n",
    "        curr = 1\n",
    "        news_data = []\n",
    "        while True:\n",
    "            href = curr_url + str(curr)\n",
    "            try:\n",
    "                driver.get(href)\n",
    "            # 페이지가 없으므로 종료\n",
    "            except:\n",
    "                break\n",
    "            news_list = driver.find_elements(By.CSS_SELECTOR, \"#list_area > dl\")\n",
    "            for i in range(len(news_list)):\n",
    "                text_form = r'\\d{4}. \\d{2}. \\d{2}'\n",
    "                date, text, href = None, None, None\n",
    "                if bool(re.match(text_form, news_list[i].find_element(By.CSS_SELECTOR, \"#date\").text)):\n",
    "                    date = re.findall(text_form, news_list[i].find_element(By.CSS_SELECTOR, \"#date\").text)[0].replace(' ', '').replace('.', '-')\n",
    "                try:\n",
    "                    href = news_list[i].find_element(By.CSS_SELECTOR, \"dt > a\").get_attribute(\"href\")\n",
    "                    main = webdriver.Chrome(ChromeDriverManager().install())\n",
    "                    main.get(href)\n",
    "                    time.sleep(1)\n",
    "                    text = main.find_element(By.CSS_SELECTOR, \"#atic_txt1\").text\n",
    "                    main.quit()\n",
    "                except:\n",
    "                    pass\n",
    "                if href == None:\n",
    "                    href = \"\"\n",
    "                if date == None:\n",
    "                    date = \"\"\n",
    "                if text == None:\n",
    "                    text = \"\"\n",
    "                news_data.append([date, text, href])\n",
    "\n",
    "            curr += 1\n",
    "        pd.DataFrame(news_data, columns= [\"date\", \"content\", \"href\"]).to_csv(\"Data/news_data/\"+self.search_word + \".csv\")"
   ]
  },
  {
   "cell_type": "code",
   "execution_count": 2,
   "metadata": {},
   "outputs": [
    {
     "name": "stdout",
     "output_type": "stream",
     "text": [
      "\n"
     ]
    },
    {
     "name": "stderr",
     "output_type": "stream",
     "text": [
      "[WDM] - ====== WebDriver manager ======\n",
      "[WDM] - Current google-chrome version is 112.0.5615\n",
      "[WDM] - Get LATEST chromedriver version for 112.0.5615 google-chrome\n",
      "[WDM] - Driver [/Users/yuhyeonseog/.wdm/drivers/chromedriver/mac64/112.0.5615.49/chromedriver] found in cache\n",
      "/var/folders/5v/ywkv8vl52zs0xz8k0x15y8fm0000gn/T/ipykernel_84365/3646641574.py:1: DeprecationWarning: executable_path has been deprecated, please pass in a Service object\n",
      "  driver = webdriver.Chrome(ChromeDriverManager().install())\n"
     ]
    }
   ],
   "source": [
    "driver = webdriver.Chrome(ChromeDriverManager().install())\n",
    "driver.get(url)\n",
    "# 검색 후 상세검색까지 \n",
    "search_word = \"삼성전자\"\n",
    "element = driver.find_element(By.CSS_SELECTOR, \"#keyword\")\n",
    "element.send_keys(search_word + Keys.ENTER)\n",
    "driver.find_element(By.CSS_SELECTOR, \"#scopeBtn_title\").click()\n",
    "driver.find_element(By.CSS_SELECTOR, \"#sub_option > a\").click()"
   ]
  },
  {
   "cell_type": "code",
   "execution_count": 3,
   "metadata": {},
   "outputs": [
    {
     "data": {
      "text/plain": [
       "'https://search.seoul.co.kr/index.php?scope=title&sort=&cpCode=seoul;nownews&period=&sDate=&eDate=&keyword=%EC%82%BC%EC%84%B1%EC%A0%84%EC%9E%90&iCategory=&pCategory=undefined&pageNum='"
      ]
     },
     "execution_count": 3,
     "metadata": {},
     "output_type": "execute_result"
    }
   ],
   "source": [
    "curr_url = driver.current_url\n",
    "curr_url = curr_url + \"&pageNum=\"\n",
    "curr_url"
   ]
  },
  {
   "cell_type": "code",
   "execution_count": 4,
   "metadata": {},
   "outputs": [
    {
     "name": "stdout",
     "output_type": "stream",
     "text": [
      "\n"
     ]
    },
    {
     "name": "stderr",
     "output_type": "stream",
     "text": [
      "[WDM] - ====== WebDriver manager ======\n",
      "[WDM] - Current google-chrome version is 112.0.5615\n",
      "[WDM] - Get LATEST chromedriver version for 112.0.5615 google-chrome\n",
      "[WDM] - Driver [/Users/yuhyeonseog/.wdm/drivers/chromedriver/mac64/112.0.5615.49/chromedriver] found in cache\n",
      "/var/folders/5v/ywkv8vl52zs0xz8k0x15y8fm0000gn/T/ipykernel_84365/1008745322.py:14: DeprecationWarning: executable_path has been deprecated, please pass in a Service object\n",
      "  main = webdriver.Chrome(ChromeDriverManager().install())\n"
     ]
    },
    {
     "name": "stdout",
     "output_type": "stream",
     "text": [
      "\n"
     ]
    },
    {
     "name": "stderr",
     "output_type": "stream",
     "text": [
      "[WDM] - ====== WebDriver manager ======\n",
      "[WDM] - Current google-chrome version is 112.0.5615\n",
      "[WDM] - Get LATEST chromedriver version for 112.0.5615 google-chrome\n",
      "[WDM] - Driver [/Users/yuhyeonseog/.wdm/drivers/chromedriver/mac64/112.0.5615.49/chromedriver] found in cache\n"
     ]
    },
    {
     "name": "stdout",
     "output_type": "stream",
     "text": [
      "\n"
     ]
    },
    {
     "name": "stderr",
     "output_type": "stream",
     "text": [
      "[WDM] - ====== WebDriver manager ======\n",
      "[WDM] - Current google-chrome version is 112.0.5615\n",
      "[WDM] - Get LATEST chromedriver version for 112.0.5615 google-chrome\n",
      "[WDM] - Driver [/Users/yuhyeonseog/.wdm/drivers/chromedriver/mac64/112.0.5615.49/chromedriver] found in cache\n"
     ]
    },
    {
     "name": "stdout",
     "output_type": "stream",
     "text": [
      "\n"
     ]
    },
    {
     "name": "stderr",
     "output_type": "stream",
     "text": [
      "[WDM] - ====== WebDriver manager ======\n",
      "[WDM] - Current google-chrome version is 112.0.5615\n",
      "[WDM] - Get LATEST chromedriver version for 112.0.5615 google-chrome\n",
      "[WDM] - Driver [/Users/yuhyeonseog/.wdm/drivers/chromedriver/mac64/112.0.5615.49/chromedriver] found in cache\n"
     ]
    },
    {
     "name": "stdout",
     "output_type": "stream",
     "text": [
      "\n"
     ]
    },
    {
     "name": "stderr",
     "output_type": "stream",
     "text": [
      "[WDM] - ====== WebDriver manager ======\n",
      "[WDM] - Current google-chrome version is 112.0.5615\n",
      "[WDM] - Get LATEST chromedriver version for 112.0.5615 google-chrome\n",
      "[WDM] - Driver [/Users/yuhyeonseog/.wdm/drivers/chromedriver/mac64/112.0.5615.49/chromedriver] found in cache\n"
     ]
    },
    {
     "name": "stdout",
     "output_type": "stream",
     "text": [
      "\n"
     ]
    },
    {
     "name": "stderr",
     "output_type": "stream",
     "text": [
      "[WDM] - ====== WebDriver manager ======\n",
      "[WDM] - Current google-chrome version is 112.0.5615\n",
      "[WDM] - Get LATEST chromedriver version for 112.0.5615 google-chrome\n",
      "[WDM] - Driver [/Users/yuhyeonseog/.wdm/drivers/chromedriver/mac64/112.0.5615.49/chromedriver] found in cache\n"
     ]
    },
    {
     "name": "stdout",
     "output_type": "stream",
     "text": [
      "\n"
     ]
    },
    {
     "name": "stderr",
     "output_type": "stream",
     "text": [
      "[WDM] - ====== WebDriver manager ======\n",
      "[WDM] - Current google-chrome version is 112.0.5615\n",
      "[WDM] - Get LATEST chromedriver version for 112.0.5615 google-chrome\n",
      "[WDM] - Driver [/Users/yuhyeonseog/.wdm/drivers/chromedriver/mac64/112.0.5615.49/chromedriver] found in cache\n"
     ]
    },
    {
     "name": "stdout",
     "output_type": "stream",
     "text": [
      "\n"
     ]
    },
    {
     "name": "stderr",
     "output_type": "stream",
     "text": [
      "[WDM] - ====== WebDriver manager ======\n",
      "[WDM] - Current google-chrome version is 112.0.5615\n",
      "[WDM] - Get LATEST chromedriver version for 112.0.5615 google-chrome\n",
      "[WDM] - Driver [/Users/yuhyeonseog/.wdm/drivers/chromedriver/mac64/112.0.5615.49/chromedriver] found in cache\n"
     ]
    },
    {
     "name": "stdout",
     "output_type": "stream",
     "text": [
      "\n"
     ]
    },
    {
     "name": "stderr",
     "output_type": "stream",
     "text": [
      "[WDM] - ====== WebDriver manager ======\n",
      "[WDM] - Current google-chrome version is 112.0.5615\n",
      "[WDM] - Get LATEST chromedriver version for 112.0.5615 google-chrome\n",
      "[WDM] - Driver [/Users/yuhyeonseog/.wdm/drivers/chromedriver/mac64/112.0.5615.49/chromedriver] found in cache\n"
     ]
    }
   ],
   "source": [
    "curr = 1\n",
    "news_data = []\n",
    "while True:\n",
    "    href = curr_url + str(curr)\n",
    "    driver.get(href)\n",
    "    news_list = driver.find_elements(By.CSS_SELECTOR, \"#list_area > dl\")\n",
    "    for i in range(len(news_list)):\n",
    "        text_form = r'\\d{4}. \\d{2}. \\d{2}'\n",
    "        date, text, href = None, None, None\n",
    "        if bool(re.match(text_form, news_list[i].find_element(By.CSS_SELECTOR, \"#date\").text)):\n",
    "            date = re.findall(text_form, news_list[i].find_element(By.CSS_SELECTOR, \"#date\").text)[0].replace(' ', '').replace('.', '-')\n",
    "        try:\n",
    "            href = news_list[i].find_element(By.CSS_SELECTOR, \"dt > a\").get_attribute(\"href\")\n",
    "            main = webdriver.Chrome(ChromeDriverManager().install())\n",
    "            main.get(href)\n",
    "            time.sleep(1)\n",
    "            text = main.find_element(By.CSS_SELECTOR, \"#atic_txt1\").text\n",
    "            main.quit()\n",
    "        except:\n",
    "            pass\n",
    "        if href == None:\n",
    "            href = \"\"\n",
    "        if date == None:\n",
    "            date = \"\"\n",
    "        if text == None:\n",
    "            text = \"\"\n",
    "        news_data.append([date, text, href])\n",
    "\n",
    "    curr += 1\n",
    "    print(curr)"
   ]
  },
  {
   "cell_type": "code",
   "execution_count": 5,
   "metadata": {},
   "outputs": [
    {
     "data": {
      "text/plain": [
       "[<selenium.webdriver.remote.webelement.WebElement (session=\"d34633445463b67785b0dd32c9e4375e\", element=\"71c2cc50-3de3-4c8b-af8d-6692dca3959d\")>,\n",
       " <selenium.webdriver.remote.webelement.WebElement (session=\"d34633445463b67785b0dd32c9e4375e\", element=\"8440ce9e-9d5d-4b2e-96bd-a68a02c76a0a\")>,\n",
       " <selenium.webdriver.remote.webelement.WebElement (session=\"d34633445463b67785b0dd32c9e4375e\", element=\"8c42e756-ff52-44ff-9837-012755e3b1b8\")>,\n",
       " <selenium.webdriver.remote.webelement.WebElement (session=\"d34633445463b67785b0dd32c9e4375e\", element=\"81976208-1c54-496b-be85-2286fc16e74d\")>,\n",
       " <selenium.webdriver.remote.webelement.WebElement (session=\"d34633445463b67785b0dd32c9e4375e\", element=\"1d2748e7-4acd-4c8b-945d-76a9b1f78a12\")>,\n",
       " <selenium.webdriver.remote.webelement.WebElement (session=\"d34633445463b67785b0dd32c9e4375e\", element=\"f634ade7-5a66-4188-999b-36a1261085bd\")>,\n",
       " <selenium.webdriver.remote.webelement.WebElement (session=\"d34633445463b67785b0dd32c9e4375e\", element=\"a79fa7a0-3db9-457f-9eec-2b8fa955f525\")>,\n",
       " <selenium.webdriver.remote.webelement.WebElement (session=\"d34633445463b67785b0dd32c9e4375e\", element=\"619d7475-a72e-41e0-a98e-b246bed2f9f0\")>,\n",
       " <selenium.webdriver.remote.webelement.WebElement (session=\"d34633445463b67785b0dd32c9e4375e\", element=\"835f4ad9-3e33-4c0d-a28f-34ec0d81c1a3\")>,\n",
       " <selenium.webdriver.remote.webelement.WebElement (session=\"d34633445463b67785b0dd32c9e4375e\", element=\"6da0613a-211f-4931-bc54-cd70688ffbe7\")>]"
      ]
     },
     "execution_count": 5,
     "metadata": {},
     "output_type": "execute_result"
    }
   ],
   "source": [
    "#list_area\n",
    "news_list = driver.find_elements(By.CSS_SELECTOR, \"#list_area > dl\")\n",
    "news_list"
   ]
  },
  {
   "cell_type": "code",
   "execution_count": null,
   "metadata": {},
   "outputs": [],
   "source": []
  }
 ],
 "metadata": {
  "kernelspec": {
   "display_name": "Python 3",
   "language": "python",
   "name": "python3"
  },
  "language_info": {
   "codemirror_mode": {
    "name": "ipython",
    "version": 3
   },
   "file_extension": ".py",
   "mimetype": "text/x-python",
   "name": "python",
   "nbconvert_exporter": "python",
   "pygments_lexer": "ipython3",
   "version": "3.10.0"
  },
  "orig_nbformat": 4
 },
 "nbformat": 4,
 "nbformat_minor": 2
}
